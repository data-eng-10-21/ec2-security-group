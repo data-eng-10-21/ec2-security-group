{
 "cells": [
  {
   "cell_type": "markdown",
   "metadata": {},
   "source": [
    "# EC2 Security Groups"
   ]
  },
  {
   "cell_type": "markdown",
   "metadata": {},
   "source": [
    "### Introduction "
   ]
  },
  {
   "cell_type": "markdown",
   "metadata": {},
   "source": [
    "In the last section, we walked through part of the process of setting up our EC2 machine.  So far we selected our operating system (the Amazon Machine Image), our hardware (the Instance Type) and added our storage.  In this section, we'll learn more about configuring our security group.\n",
    "\n",
    "By configuring our security group, we describe how our machine will communicate to the outside world.  Remember our machine exists somewhere in the cloud.  If we preferred, we could isolate it from the rest of the Internet.  But it's not much use to us that way.  No one would be able to access this computer.\n",
    "\n",
    "So Amazon asks us to specify exactly how we want to expose our machine to the outside world."
   ]
  },
  {
   "cell_type": "markdown",
   "metadata": {},
   "source": [
    "### Viewing our security group"
   ]
  },
  {
   "cell_type": "markdown",
   "metadata": {},
   "source": [
    "Remember that our security group is another word for the firewall.  It controls who is able to access our machine, and how they are able to access it.\n",
    "\n",
    "We can view the security group associated with an EC-2 machine by starting at the EC2 dashboard, and then clicking on the `Instances (running)` link."
   ]
  },
  {
   "cell_type": "markdown",
   "metadata": {},
   "source": [
    "<img src=\"./ec2-dashboard.png\" width=\"60%\">"
   ]
  },
  {
   "cell_type": "markdown",
   "metadata": {},
   "source": [
    "From there, we will be taken to the instance that we just created.  Click on the instance id."
   ]
  },
  {
   "cell_type": "markdown",
   "metadata": {},
   "source": [
    "<img src=\"./instance-id.png\" width=\"100%\">"
   ]
  },
  {
   "cell_type": "markdown",
   "metadata": {},
   "source": [
    "Then in the bottom half of the screen click on security (you can see it next to `Details` at the bottom of the below image). "
   ]
  },
  {
   "cell_type": "markdown",
   "metadata": {},
   "source": [
    "<img src=\"./ami-security.png\" width=\"100%\">"
   ]
  },
  {
   "cell_type": "markdown",
   "metadata": {},
   "source": [
    "So once you click on `Security`, we can see the id of our EC2 security group in blue, beginning with letters sg.  Click on that."
   ]
  },
  {
   "cell_type": "markdown",
   "metadata": {},
   "source": [
    "<img src=\"./ec2-sec-group.png\" width=\"100%\">"
   ]
  },
  {
   "cell_type": "markdown",
   "metadata": {},
   "source": [
    "Ok, so now we are at the details about our security group."
   ]
  },
  {
   "cell_type": "markdown",
   "metadata": {},
   "source": [
    "<img src=\"./sec-group.png\" width=\"90%\">"
   ]
  },
  {
   "cell_type": "markdown",
   "metadata": {},
   "source": [
    "### SSH "
   ]
  },
  {
   "cell_type": "markdown",
   "metadata": {},
   "source": [
    "Now in the table with the gray heading we see the various inbound rules, and lucky for us, the prefilled SSH rule works fine.  Still, this is a nice time to understand what this rule means."
   ]
  },
  {
   "cell_type": "markdown",
   "metadata": {},
   "source": [
    "<img src=\"./inbound-rules.png\" width=\"100%\">"
   ]
  },
  {
   "cell_type": "markdown",
   "metadata": {},
   "source": [
    "* **SSH** \n",
    "\n",
    "We can see under type that the inbound rule is for `SSH`.  SSH is used to authenticate our local machine (that is the computer you're reading off of now) and connect a remote computer (our EC2 machine).  \n",
    "\n",
    "With SSH, we'll be able to access the EC2 machine through our local terminal, just like we access our own local computer through our terminal.  This is powerful - remember that we can do almost anything through our terminal.  And to authenticate this access, SSH uses a public key.  (The public key is that pem file you may have donwloaded -- you'll use it to connect to the EC2 machine.)"
   ]
  },
  {
   "cell_type": "markdown",
   "metadata": {},
   "source": [
    "* **Port Range**\n",
    "\n",
    "Over to the right, you can see a Port Range.  A port range is specified because an EC2 machine, and really any computer, has multiple services (that is, computer programs) running at once.  We may not want to allow access to all of them, so instead each service is assigned a port.  \n",
    "\n",
    "> We saw this where, our flask application was assigned port 5000.  \n",
    "\n",
    "Here, we can use SSH by connecting to our EC2 machine on port 22."
   ]
  },
  {
   "cell_type": "markdown",
   "metadata": {},
   "source": [
    "* **IP address**\n",
    "\n",
    "Next, we see *source*.  This is where we'll specify the ip address of our **local computer**, that is the ip address of the computer we want to allow to access the EC2 machine -- in other words, our laptop or personal computer.  Yes, your laptop has an ip address.  Every connection to the Internet is assigned an IP address.  \n",
    "\n",
    "> You can see yours by typing \"What's my ip address\" into Google."
   ]
  },
  {
   "cell_type": "markdown",
   "metadata": {},
   "source": [
    "AWS asks for this because we may not just want any person with a computer to be able to connect to our EC2 machine or the website content on it.  For example, if we had a company intranet for only employees, we may only want to enable access to the website from onsite computers.  \n",
    "\n",
    "Currently, we are using the default source of `0.0.0.0/0`, which allows any `ip address` to connect to the EC2 machine.  Here, we won't have anything too valuable on our ec2 machine, so this is ok."
   ]
  },
  {
   "cell_type": "markdown",
   "metadata": {},
   "source": [
    "### Summary"
   ]
  },
  {
   "cell_type": "markdown",
   "metadata": {},
   "source": [
    "Let's review by first taking another look at the security group  -- hopefully it makes a bit more sense."
   ]
  },
  {
   "cell_type": "markdown",
   "metadata": {},
   "source": [
    "<img src=\"./inbound-rules.png\" width=\"100%\">"
   ]
  },
  {
   "cell_type": "markdown",
   "metadata": {},
   "source": [
    "* **Security group**: With the security group we specify how we allow access to the EC2 instance, and other EC2 machines we add to the security group.  \n",
    "\n",
    "* **SSH** We specifically saw how to grant SSH access, which authenticates a separate machine connecting to the EC2 computer by using a key.  \n",
    "\n",
    "* **Ports**  We saw that different services are accessible by different ports on a computer.  And we can enable access to a specific port on a computer.\n",
    "\n",
    "* **IP address** We learned that each connected device to the Internet is given a separate ip address.  And we used the *source* field to specify which ip addresses can access the EC2 machine.  By setting a ip address of 0.0.0.0/0, we do not restrict who can access the machine by ip address.\n",
    "\n",
    "In the next section, we'll learn more about connecting to our EC2 instance with SSH key."
   ]
  },
  {
   "cell_type": "markdown",
   "metadata": {},
   "source": [
    "### Resources"
   ]
  },
  {
   "cell_type": "markdown",
   "metadata": {},
   "source": [
    "[Jupyter notebooks on AWS blog](https://medium.com/@alexjsanchez/python-3-notebooks-on-aws-ec2-in-15-mostly-easy-steps-2ec5e662c6c6)"
   ]
  }
 ],
 "metadata": {
  "kernelspec": {
   "display_name": "Python 3 (ipykernel)",
   "language": "python",
   "name": "python3"
  },
  "language_info": {
   "codemirror_mode": {
    "name": "ipython",
    "version": 3
   },
   "file_extension": ".py",
   "mimetype": "text/x-python",
   "name": "python",
   "nbconvert_exporter": "python",
   "pygments_lexer": "ipython3",
   "version": "3.9.12"
  }
 },
 "nbformat": 4,
 "nbformat_minor": 4
}
